{
  "nbformat": 4,
  "nbformat_minor": 0,
  "metadata": {
    "colab": {
      "name": "MultiLayer Perceptron Assignment.ipynb",
      "provenance": [],
      "authorship_tag": "ABX9TyOvIJVhjVo9ZdILikpeZbRh",
      "include_colab_link": true
    },
    "kernelspec": {
      "name": "python3",
      "display_name": "Python 3"
    },
    "language_info": {
      "name": "python"
    },
    "widgets": {
      "application/vnd.jupyter.widget-state+json": {
        "d6ad037d990c440da7f3340179e1333d": {
          "model_module": "@jupyter-widgets/controls",
          "model_name": "HBoxModel",
          "state": {
            "_view_name": "HBoxView",
            "_dom_classes": [],
            "_model_name": "HBoxModel",
            "_view_module": "@jupyter-widgets/controls",
            "_model_module_version": "1.5.0",
            "_view_count": null,
            "_view_module_version": "1.5.0",
            "box_style": "",
            "layout": "IPY_MODEL_bd61c3a580e8423a888e2b19c7769fb6",
            "_model_module": "@jupyter-widgets/controls",
            "children": [
              "IPY_MODEL_e766b51b2b964a5dabe93667a9fa1fe9",
              "IPY_MODEL_f150f16d27f24f2487a5a5df2124ef73"
            ]
          }
        },
        "bd61c3a580e8423a888e2b19c7769fb6": {
          "model_module": "@jupyter-widgets/base",
          "model_name": "LayoutModel",
          "state": {
            "_view_name": "LayoutView",
            "grid_template_rows": null,
            "right": null,
            "justify_content": null,
            "_view_module": "@jupyter-widgets/base",
            "overflow": null,
            "_model_module_version": "1.2.0",
            "_view_count": null,
            "flex_flow": null,
            "width": null,
            "min_width": null,
            "border": null,
            "align_items": null,
            "bottom": null,
            "_model_module": "@jupyter-widgets/base",
            "top": null,
            "grid_column": null,
            "overflow_y": null,
            "overflow_x": null,
            "grid_auto_flow": null,
            "grid_area": null,
            "grid_template_columns": null,
            "flex": null,
            "_model_name": "LayoutModel",
            "justify_items": null,
            "grid_row": null,
            "max_height": null,
            "align_content": null,
            "visibility": null,
            "align_self": null,
            "height": null,
            "min_height": null,
            "padding": null,
            "grid_auto_rows": null,
            "grid_gap": null,
            "max_width": null,
            "order": null,
            "_view_module_version": "1.2.0",
            "grid_template_areas": null,
            "object_position": null,
            "object_fit": null,
            "grid_auto_columns": null,
            "margin": null,
            "display": null,
            "left": null
          }
        },
        "e766b51b2b964a5dabe93667a9fa1fe9": {
          "model_module": "@jupyter-widgets/controls",
          "model_name": "FloatProgressModel",
          "state": {
            "_view_name": "ProgressView",
            "style": "IPY_MODEL_011e8395462640869a9aaa792bc4b284",
            "_dom_classes": [],
            "description": "100%",
            "_model_name": "FloatProgressModel",
            "bar_style": "success",
            "max": 600,
            "_view_module": "@jupyter-widgets/controls",
            "_model_module_version": "1.5.0",
            "value": 600,
            "_view_count": null,
            "_view_module_version": "1.5.0",
            "orientation": "horizontal",
            "min": 0,
            "description_tooltip": null,
            "_model_module": "@jupyter-widgets/controls",
            "layout": "IPY_MODEL_f7be6bbc534a4e82a53c0608965626d0"
          }
        },
        "f150f16d27f24f2487a5a5df2124ef73": {
          "model_module": "@jupyter-widgets/controls",
          "model_name": "HTMLModel",
          "state": {
            "_view_name": "HTMLView",
            "style": "IPY_MODEL_7c573bfbaccb45cc80328257ebb3c9ae",
            "_dom_classes": [],
            "description": "",
            "_model_name": "HTMLModel",
            "placeholder": "​",
            "_view_module": "@jupyter-widgets/controls",
            "_model_module_version": "1.5.0",
            "value": " 600/600 [01:06&lt;00:00,  9.00it/s]",
            "_view_count": null,
            "_view_module_version": "1.5.0",
            "description_tooltip": null,
            "_model_module": "@jupyter-widgets/controls",
            "layout": "IPY_MODEL_5f2214304813440eb88014a2d536d4e2"
          }
        },
        "011e8395462640869a9aaa792bc4b284": {
          "model_module": "@jupyter-widgets/controls",
          "model_name": "ProgressStyleModel",
          "state": {
            "_view_name": "StyleView",
            "_model_name": "ProgressStyleModel",
            "description_width": "initial",
            "_view_module": "@jupyter-widgets/base",
            "_model_module_version": "1.5.0",
            "_view_count": null,
            "_view_module_version": "1.2.0",
            "bar_color": null,
            "_model_module": "@jupyter-widgets/controls"
          }
        },
        "f7be6bbc534a4e82a53c0608965626d0": {
          "model_module": "@jupyter-widgets/base",
          "model_name": "LayoutModel",
          "state": {
            "_view_name": "LayoutView",
            "grid_template_rows": null,
            "right": null,
            "justify_content": null,
            "_view_module": "@jupyter-widgets/base",
            "overflow": null,
            "_model_module_version": "1.2.0",
            "_view_count": null,
            "flex_flow": null,
            "width": null,
            "min_width": null,
            "border": null,
            "align_items": null,
            "bottom": null,
            "_model_module": "@jupyter-widgets/base",
            "top": null,
            "grid_column": null,
            "overflow_y": null,
            "overflow_x": null,
            "grid_auto_flow": null,
            "grid_area": null,
            "grid_template_columns": null,
            "flex": null,
            "_model_name": "LayoutModel",
            "justify_items": null,
            "grid_row": null,
            "max_height": null,
            "align_content": null,
            "visibility": null,
            "align_self": null,
            "height": null,
            "min_height": null,
            "padding": null,
            "grid_auto_rows": null,
            "grid_gap": null,
            "max_width": null,
            "order": null,
            "_view_module_version": "1.2.0",
            "grid_template_areas": null,
            "object_position": null,
            "object_fit": null,
            "grid_auto_columns": null,
            "margin": null,
            "display": null,
            "left": null
          }
        },
        "7c573bfbaccb45cc80328257ebb3c9ae": {
          "model_module": "@jupyter-widgets/controls",
          "model_name": "DescriptionStyleModel",
          "state": {
            "_view_name": "StyleView",
            "_model_name": "DescriptionStyleModel",
            "description_width": "",
            "_view_module": "@jupyter-widgets/base",
            "_model_module_version": "1.5.0",
            "_view_count": null,
            "_view_module_version": "1.2.0",
            "_model_module": "@jupyter-widgets/controls"
          }
        },
        "5f2214304813440eb88014a2d536d4e2": {
          "model_module": "@jupyter-widgets/base",
          "model_name": "LayoutModel",
          "state": {
            "_view_name": "LayoutView",
            "grid_template_rows": null,
            "right": null,
            "justify_content": null,
            "_view_module": "@jupyter-widgets/base",
            "overflow": null,
            "_model_module_version": "1.2.0",
            "_view_count": null,
            "flex_flow": null,
            "width": null,
            "min_width": null,
            "border": null,
            "align_items": null,
            "bottom": null,
            "_model_module": "@jupyter-widgets/base",
            "top": null,
            "grid_column": null,
            "overflow_y": null,
            "overflow_x": null,
            "grid_auto_flow": null,
            "grid_area": null,
            "grid_template_columns": null,
            "flex": null,
            "_model_name": "LayoutModel",
            "justify_items": null,
            "grid_row": null,
            "max_height": null,
            "align_content": null,
            "visibility": null,
            "align_self": null,
            "height": null,
            "min_height": null,
            "padding": null,
            "grid_auto_rows": null,
            "grid_gap": null,
            "max_width": null,
            "order": null,
            "_view_module_version": "1.2.0",
            "grid_template_areas": null,
            "object_position": null,
            "object_fit": null,
            "grid_auto_columns": null,
            "margin": null,
            "display": null,
            "left": null
          }
        },
        "76a3b8c29d3443aeae6c2f1cf538ea0a": {
          "model_module": "@jupyter-widgets/controls",
          "model_name": "HBoxModel",
          "state": {
            "_view_name": "HBoxView",
            "_dom_classes": [],
            "_model_name": "HBoxModel",
            "_view_module": "@jupyter-widgets/controls",
            "_model_module_version": "1.5.0",
            "_view_count": null,
            "_view_module_version": "1.5.0",
            "box_style": "",
            "layout": "IPY_MODEL_b35f2da4039442adbeff9b0dcec83520",
            "_model_module": "@jupyter-widgets/controls",
            "children": [
              "IPY_MODEL_aeb43128f03745a69e3a95a2e9a1eb38",
              "IPY_MODEL_fcebd559b53e44b9a1a8180aed791b93"
            ]
          }
        },
        "b35f2da4039442adbeff9b0dcec83520": {
          "model_module": "@jupyter-widgets/base",
          "model_name": "LayoutModel",
          "state": {
            "_view_name": "LayoutView",
            "grid_template_rows": null,
            "right": null,
            "justify_content": null,
            "_view_module": "@jupyter-widgets/base",
            "overflow": null,
            "_model_module_version": "1.2.0",
            "_view_count": null,
            "flex_flow": null,
            "width": null,
            "min_width": null,
            "border": null,
            "align_items": null,
            "bottom": null,
            "_model_module": "@jupyter-widgets/base",
            "top": null,
            "grid_column": null,
            "overflow_y": null,
            "overflow_x": null,
            "grid_auto_flow": null,
            "grid_area": null,
            "grid_template_columns": null,
            "flex": null,
            "_model_name": "LayoutModel",
            "justify_items": null,
            "grid_row": null,
            "max_height": null,
            "align_content": null,
            "visibility": null,
            "align_self": null,
            "height": null,
            "min_height": null,
            "padding": null,
            "grid_auto_rows": null,
            "grid_gap": null,
            "max_width": null,
            "order": null,
            "_view_module_version": "1.2.0",
            "grid_template_areas": null,
            "object_position": null,
            "object_fit": null,
            "grid_auto_columns": null,
            "margin": null,
            "display": null,
            "left": null
          }
        },
        "aeb43128f03745a69e3a95a2e9a1eb38": {
          "model_module": "@jupyter-widgets/controls",
          "model_name": "FloatProgressModel",
          "state": {
            "_view_name": "ProgressView",
            "style": "IPY_MODEL_9322642029814f7198808d1e08d8a391",
            "_dom_classes": [],
            "description": "100%",
            "_model_name": "FloatProgressModel",
            "bar_style": "success",
            "max": 100,
            "_view_module": "@jupyter-widgets/controls",
            "_model_module_version": "1.5.0",
            "value": 100,
            "_view_count": null,
            "_view_module_version": "1.5.0",
            "orientation": "horizontal",
            "min": 0,
            "description_tooltip": null,
            "_model_module": "@jupyter-widgets/controls",
            "layout": "IPY_MODEL_6020bdbf8ba740e0843306fdd18e748a"
          }
        },
        "fcebd559b53e44b9a1a8180aed791b93": {
          "model_module": "@jupyter-widgets/controls",
          "model_name": "HTMLModel",
          "state": {
            "_view_name": "HTMLView",
            "style": "IPY_MODEL_d692f897ec26485f8b23be42f3d970d8",
            "_dom_classes": [],
            "description": "",
            "_model_name": "HTMLModel",
            "placeholder": "​",
            "_view_module": "@jupyter-widgets/controls",
            "_model_module_version": "1.5.0",
            "value": " 100/100 [00:56&lt;00:00,  1.76it/s]",
            "_view_count": null,
            "_view_module_version": "1.5.0",
            "description_tooltip": null,
            "_model_module": "@jupyter-widgets/controls",
            "layout": "IPY_MODEL_6973262ce604403996c9f269d56f8376"
          }
        },
        "9322642029814f7198808d1e08d8a391": {
          "model_module": "@jupyter-widgets/controls",
          "model_name": "ProgressStyleModel",
          "state": {
            "_view_name": "StyleView",
            "_model_name": "ProgressStyleModel",
            "description_width": "initial",
            "_view_module": "@jupyter-widgets/base",
            "_model_module_version": "1.5.0",
            "_view_count": null,
            "_view_module_version": "1.2.0",
            "bar_color": null,
            "_model_module": "@jupyter-widgets/controls"
          }
        },
        "6020bdbf8ba740e0843306fdd18e748a": {
          "model_module": "@jupyter-widgets/base",
          "model_name": "LayoutModel",
          "state": {
            "_view_name": "LayoutView",
            "grid_template_rows": null,
            "right": null,
            "justify_content": null,
            "_view_module": "@jupyter-widgets/base",
            "overflow": null,
            "_model_module_version": "1.2.0",
            "_view_count": null,
            "flex_flow": null,
            "width": null,
            "min_width": null,
            "border": null,
            "align_items": null,
            "bottom": null,
            "_model_module": "@jupyter-widgets/base",
            "top": null,
            "grid_column": null,
            "overflow_y": null,
            "overflow_x": null,
            "grid_auto_flow": null,
            "grid_area": null,
            "grid_template_columns": null,
            "flex": null,
            "_model_name": "LayoutModel",
            "justify_items": null,
            "grid_row": null,
            "max_height": null,
            "align_content": null,
            "visibility": null,
            "align_self": null,
            "height": null,
            "min_height": null,
            "padding": null,
            "grid_auto_rows": null,
            "grid_gap": null,
            "max_width": null,
            "order": null,
            "_view_module_version": "1.2.0",
            "grid_template_areas": null,
            "object_position": null,
            "object_fit": null,
            "grid_auto_columns": null,
            "margin": null,
            "display": null,
            "left": null
          }
        },
        "d692f897ec26485f8b23be42f3d970d8": {
          "model_module": "@jupyter-widgets/controls",
          "model_name": "DescriptionStyleModel",
          "state": {
            "_view_name": "StyleView",
            "_model_name": "DescriptionStyleModel",
            "description_width": "",
            "_view_module": "@jupyter-widgets/base",
            "_model_module_version": "1.5.0",
            "_view_count": null,
            "_view_module_version": "1.2.0",
            "_model_module": "@jupyter-widgets/controls"
          }
        },
        "6973262ce604403996c9f269d56f8376": {
          "model_module": "@jupyter-widgets/base",
          "model_name": "LayoutModel",
          "state": {
            "_view_name": "LayoutView",
            "grid_template_rows": null,
            "right": null,
            "justify_content": null,
            "_view_module": "@jupyter-widgets/base",
            "overflow": null,
            "_model_module_version": "1.2.0",
            "_view_count": null,
            "flex_flow": null,
            "width": null,
            "min_width": null,
            "border": null,
            "align_items": null,
            "bottom": null,
            "_model_module": "@jupyter-widgets/base",
            "top": null,
            "grid_column": null,
            "overflow_y": null,
            "overflow_x": null,
            "grid_auto_flow": null,
            "grid_area": null,
            "grid_template_columns": null,
            "flex": null,
            "_model_name": "LayoutModel",
            "justify_items": null,
            "grid_row": null,
            "max_height": null,
            "align_content": null,
            "visibility": null,
            "align_self": null,
            "height": null,
            "min_height": null,
            "padding": null,
            "grid_auto_rows": null,
            "grid_gap": null,
            "max_width": null,
            "order": null,
            "_view_module_version": "1.2.0",
            "grid_template_areas": null,
            "object_position": null,
            "object_fit": null,
            "grid_auto_columns": null,
            "margin": null,
            "display": null,
            "left": null
          }
        },
        "d630fe9e57aa45d9a0e34bfd264749a3": {
          "model_module": "@jupyter-widgets/controls",
          "model_name": "HBoxModel",
          "state": {
            "_view_name": "HBoxView",
            "_dom_classes": [],
            "_model_name": "HBoxModel",
            "_view_module": "@jupyter-widgets/controls",
            "_model_module_version": "1.5.0",
            "_view_count": null,
            "_view_module_version": "1.5.0",
            "box_style": "",
            "layout": "IPY_MODEL_7874ebc658eb40549c907fb7090bf807",
            "_model_module": "@jupyter-widgets/controls",
            "children": [
              "IPY_MODEL_dcc22e8f49c34c1bbeba48ae1ccd9880",
              "IPY_MODEL_26680e523f9a4f19888a022c2f95005d"
            ]
          }
        },
        "7874ebc658eb40549c907fb7090bf807": {
          "model_module": "@jupyter-widgets/base",
          "model_name": "LayoutModel",
          "state": {
            "_view_name": "LayoutView",
            "grid_template_rows": null,
            "right": null,
            "justify_content": null,
            "_view_module": "@jupyter-widgets/base",
            "overflow": null,
            "_model_module_version": "1.2.0",
            "_view_count": null,
            "flex_flow": null,
            "width": null,
            "min_width": null,
            "border": null,
            "align_items": null,
            "bottom": null,
            "_model_module": "@jupyter-widgets/base",
            "top": null,
            "grid_column": null,
            "overflow_y": null,
            "overflow_x": null,
            "grid_auto_flow": null,
            "grid_area": null,
            "grid_template_columns": null,
            "flex": null,
            "_model_name": "LayoutModel",
            "justify_items": null,
            "grid_row": null,
            "max_height": null,
            "align_content": null,
            "visibility": null,
            "align_self": null,
            "height": null,
            "min_height": null,
            "padding": null,
            "grid_auto_rows": null,
            "grid_gap": null,
            "max_width": null,
            "order": null,
            "_view_module_version": "1.2.0",
            "grid_template_areas": null,
            "object_position": null,
            "object_fit": null,
            "grid_auto_columns": null,
            "margin": null,
            "display": null,
            "left": null
          }
        },
        "dcc22e8f49c34c1bbeba48ae1ccd9880": {
          "model_module": "@jupyter-widgets/controls",
          "model_name": "FloatProgressModel",
          "state": {
            "_view_name": "ProgressView",
            "style": "IPY_MODEL_23e4858a671c4d8c944f247a57e896c3",
            "_dom_classes": [],
            "description": "100%",
            "_model_name": "FloatProgressModel",
            "bar_style": "success",
            "max": 600,
            "_view_module": "@jupyter-widgets/controls",
            "_model_module_version": "1.5.0",
            "value": 600,
            "_view_count": null,
            "_view_module_version": "1.5.0",
            "orientation": "horizontal",
            "min": 0,
            "description_tooltip": null,
            "_model_module": "@jupyter-widgets/controls",
            "layout": "IPY_MODEL_6e4a97d657b74994b9b9f5bcb35f08b3"
          }
        },
        "26680e523f9a4f19888a022c2f95005d": {
          "model_module": "@jupyter-widgets/controls",
          "model_name": "HTMLModel",
          "state": {
            "_view_name": "HTMLView",
            "style": "IPY_MODEL_72e0d32105724acf9b68a769ff528d38",
            "_dom_classes": [],
            "description": "",
            "_model_name": "HTMLModel",
            "placeholder": "​",
            "_view_module": "@jupyter-widgets/controls",
            "_model_module_version": "1.5.0",
            "value": " 600/600 [00:09&lt;00:00, 61.24it/s]",
            "_view_count": null,
            "_view_module_version": "1.5.0",
            "description_tooltip": null,
            "_model_module": "@jupyter-widgets/controls",
            "layout": "IPY_MODEL_106abceee517429abca0e97dc6fbd133"
          }
        },
        "23e4858a671c4d8c944f247a57e896c3": {
          "model_module": "@jupyter-widgets/controls",
          "model_name": "ProgressStyleModel",
          "state": {
            "_view_name": "StyleView",
            "_model_name": "ProgressStyleModel",
            "description_width": "initial",
            "_view_module": "@jupyter-widgets/base",
            "_model_module_version": "1.5.0",
            "_view_count": null,
            "_view_module_version": "1.2.0",
            "bar_color": null,
            "_model_module": "@jupyter-widgets/controls"
          }
        },
        "6e4a97d657b74994b9b9f5bcb35f08b3": {
          "model_module": "@jupyter-widgets/base",
          "model_name": "LayoutModel",
          "state": {
            "_view_name": "LayoutView",
            "grid_template_rows": null,
            "right": null,
            "justify_content": null,
            "_view_module": "@jupyter-widgets/base",
            "overflow": null,
            "_model_module_version": "1.2.0",
            "_view_count": null,
            "flex_flow": null,
            "width": null,
            "min_width": null,
            "border": null,
            "align_items": null,
            "bottom": null,
            "_model_module": "@jupyter-widgets/base",
            "top": null,
            "grid_column": null,
            "overflow_y": null,
            "overflow_x": null,
            "grid_auto_flow": null,
            "grid_area": null,
            "grid_template_columns": null,
            "flex": null,
            "_model_name": "LayoutModel",
            "justify_items": null,
            "grid_row": null,
            "max_height": null,
            "align_content": null,
            "visibility": null,
            "align_self": null,
            "height": null,
            "min_height": null,
            "padding": null,
            "grid_auto_rows": null,
            "grid_gap": null,
            "max_width": null,
            "order": null,
            "_view_module_version": "1.2.0",
            "grid_template_areas": null,
            "object_position": null,
            "object_fit": null,
            "grid_auto_columns": null,
            "margin": null,
            "display": null,
            "left": null
          }
        },
        "72e0d32105724acf9b68a769ff528d38": {
          "model_module": "@jupyter-widgets/controls",
          "model_name": "DescriptionStyleModel",
          "state": {
            "_view_name": "StyleView",
            "_model_name": "DescriptionStyleModel",
            "description_width": "",
            "_view_module": "@jupyter-widgets/base",
            "_model_module_version": "1.5.0",
            "_view_count": null,
            "_view_module_version": "1.2.0",
            "_model_module": "@jupyter-widgets/controls"
          }
        },
        "106abceee517429abca0e97dc6fbd133": {
          "model_module": "@jupyter-widgets/base",
          "model_name": "LayoutModel",
          "state": {
            "_view_name": "LayoutView",
            "grid_template_rows": null,
            "right": null,
            "justify_content": null,
            "_view_module": "@jupyter-widgets/base",
            "overflow": null,
            "_model_module_version": "1.2.0",
            "_view_count": null,
            "flex_flow": null,
            "width": null,
            "min_width": null,
            "border": null,
            "align_items": null,
            "bottom": null,
            "_model_module": "@jupyter-widgets/base",
            "top": null,
            "grid_column": null,
            "overflow_y": null,
            "overflow_x": null,
            "grid_auto_flow": null,
            "grid_area": null,
            "grid_template_columns": null,
            "flex": null,
            "_model_name": "LayoutModel",
            "justify_items": null,
            "grid_row": null,
            "max_height": null,
            "align_content": null,
            "visibility": null,
            "align_self": null,
            "height": null,
            "min_height": null,
            "padding": null,
            "grid_auto_rows": null,
            "grid_gap": null,
            "max_width": null,
            "order": null,
            "_view_module_version": "1.2.0",
            "grid_template_areas": null,
            "object_position": null,
            "object_fit": null,
            "grid_auto_columns": null,
            "margin": null,
            "display": null,
            "left": null
          }
        },
        "793483bccb4b43d9afd71ff144bcd475": {
          "model_module": "@jupyter-widgets/controls",
          "model_name": "HBoxModel",
          "state": {
            "_view_name": "HBoxView",
            "_dom_classes": [],
            "_model_name": "HBoxModel",
            "_view_module": "@jupyter-widgets/controls",
            "_model_module_version": "1.5.0",
            "_view_count": null,
            "_view_module_version": "1.5.0",
            "box_style": "",
            "layout": "IPY_MODEL_02fd0bd86e0d456ea812b24abedd4386",
            "_model_module": "@jupyter-widgets/controls",
            "children": [
              "IPY_MODEL_a9eb8b0ea94f41589fc84fe81a998231",
              "IPY_MODEL_40235a4135f94a5daf13ddbfafe250f6"
            ]
          }
        },
        "02fd0bd86e0d456ea812b24abedd4386": {
          "model_module": "@jupyter-widgets/base",
          "model_name": "LayoutModel",
          "state": {
            "_view_name": "LayoutView",
            "grid_template_rows": null,
            "right": null,
            "justify_content": null,
            "_view_module": "@jupyter-widgets/base",
            "overflow": null,
            "_model_module_version": "1.2.0",
            "_view_count": null,
            "flex_flow": null,
            "width": null,
            "min_width": null,
            "border": null,
            "align_items": null,
            "bottom": null,
            "_model_module": "@jupyter-widgets/base",
            "top": null,
            "grid_column": null,
            "overflow_y": null,
            "overflow_x": null,
            "grid_auto_flow": null,
            "grid_area": null,
            "grid_template_columns": null,
            "flex": null,
            "_model_name": "LayoutModel",
            "justify_items": null,
            "grid_row": null,
            "max_height": null,
            "align_content": null,
            "visibility": null,
            "align_self": null,
            "height": null,
            "min_height": null,
            "padding": null,
            "grid_auto_rows": null,
            "grid_gap": null,
            "max_width": null,
            "order": null,
            "_view_module_version": "1.2.0",
            "grid_template_areas": null,
            "object_position": null,
            "object_fit": null,
            "grid_auto_columns": null,
            "margin": null,
            "display": null,
            "left": null
          }
        },
        "a9eb8b0ea94f41589fc84fe81a998231": {
          "model_module": "@jupyter-widgets/controls",
          "model_name": "FloatProgressModel",
          "state": {
            "_view_name": "ProgressView",
            "style": "IPY_MODEL_7a1536c718574ab9a78f8cae04360748",
            "_dom_classes": [],
            "description": "100%",
            "_model_name": "FloatProgressModel",
            "bar_style": "success",
            "max": 100,
            "_view_module": "@jupyter-widgets/controls",
            "_model_module_version": "1.5.0",
            "value": 100,
            "_view_count": null,
            "_view_module_version": "1.5.0",
            "orientation": "horizontal",
            "min": 0,
            "description_tooltip": null,
            "_model_module": "@jupyter-widgets/controls",
            "layout": "IPY_MODEL_7a646738b6fd4675bf17757adef9f5d9"
          }
        },
        "40235a4135f94a5daf13ddbfafe250f6": {
          "model_module": "@jupyter-widgets/controls",
          "model_name": "HTMLModel",
          "state": {
            "_view_name": "HTMLView",
            "style": "IPY_MODEL_2616df07f05b4adeadb3ce93c5de3544",
            "_dom_classes": [],
            "description": "",
            "_model_name": "HTMLModel",
            "placeholder": "​",
            "_view_module": "@jupyter-widgets/controls",
            "_model_module_version": "1.5.0",
            "value": " 100/100 [00:01&lt;00:00, 68.33it/s]",
            "_view_count": null,
            "_view_module_version": "1.5.0",
            "description_tooltip": null,
            "_model_module": "@jupyter-widgets/controls",
            "layout": "IPY_MODEL_a838e5a2bdd24b5580a6f093f076e0a0"
          }
        },
        "7a1536c718574ab9a78f8cae04360748": {
          "model_module": "@jupyter-widgets/controls",
          "model_name": "ProgressStyleModel",
          "state": {
            "_view_name": "StyleView",
            "_model_name": "ProgressStyleModel",
            "description_width": "initial",
            "_view_module": "@jupyter-widgets/base",
            "_model_module_version": "1.5.0",
            "_view_count": null,
            "_view_module_version": "1.2.0",
            "bar_color": null,
            "_model_module": "@jupyter-widgets/controls"
          }
        },
        "7a646738b6fd4675bf17757adef9f5d9": {
          "model_module": "@jupyter-widgets/base",
          "model_name": "LayoutModel",
          "state": {
            "_view_name": "LayoutView",
            "grid_template_rows": null,
            "right": null,
            "justify_content": null,
            "_view_module": "@jupyter-widgets/base",
            "overflow": null,
            "_model_module_version": "1.2.0",
            "_view_count": null,
            "flex_flow": null,
            "width": null,
            "min_width": null,
            "border": null,
            "align_items": null,
            "bottom": null,
            "_model_module": "@jupyter-widgets/base",
            "top": null,
            "grid_column": null,
            "overflow_y": null,
            "overflow_x": null,
            "grid_auto_flow": null,
            "grid_area": null,
            "grid_template_columns": null,
            "flex": null,
            "_model_name": "LayoutModel",
            "justify_items": null,
            "grid_row": null,
            "max_height": null,
            "align_content": null,
            "visibility": null,
            "align_self": null,
            "height": null,
            "min_height": null,
            "padding": null,
            "grid_auto_rows": null,
            "grid_gap": null,
            "max_width": null,
            "order": null,
            "_view_module_version": "1.2.0",
            "grid_template_areas": null,
            "object_position": null,
            "object_fit": null,
            "grid_auto_columns": null,
            "margin": null,
            "display": null,
            "left": null
          }
        },
        "2616df07f05b4adeadb3ce93c5de3544": {
          "model_module": "@jupyter-widgets/controls",
          "model_name": "DescriptionStyleModel",
          "state": {
            "_view_name": "StyleView",
            "_model_name": "DescriptionStyleModel",
            "description_width": "",
            "_view_module": "@jupyter-widgets/base",
            "_model_module_version": "1.5.0",
            "_view_count": null,
            "_view_module_version": "1.2.0",
            "_model_module": "@jupyter-widgets/controls"
          }
        },
        "a838e5a2bdd24b5580a6f093f076e0a0": {
          "model_module": "@jupyter-widgets/base",
          "model_name": "LayoutModel",
          "state": {
            "_view_name": "LayoutView",
            "grid_template_rows": null,
            "right": null,
            "justify_content": null,
            "_view_module": "@jupyter-widgets/base",
            "overflow": null,
            "_model_module_version": "1.2.0",
            "_view_count": null,
            "flex_flow": null,
            "width": null,
            "min_width": null,
            "border": null,
            "align_items": null,
            "bottom": null,
            "_model_module": "@jupyter-widgets/base",
            "top": null,
            "grid_column": null,
            "overflow_y": null,
            "overflow_x": null,
            "grid_auto_flow": null,
            "grid_area": null,
            "grid_template_columns": null,
            "flex": null,
            "_model_name": "LayoutModel",
            "justify_items": null,
            "grid_row": null,
            "max_height": null,
            "align_content": null,
            "visibility": null,
            "align_self": null,
            "height": null,
            "min_height": null,
            "padding": null,
            "grid_auto_rows": null,
            "grid_gap": null,
            "max_width": null,
            "order": null,
            "_view_module_version": "1.2.0",
            "grid_template_areas": null,
            "object_position": null,
            "object_fit": null,
            "grid_auto_columns": null,
            "margin": null,
            "display": null,
            "left": null
          }
        }
      }
    }
  },
  "cells": [
    {
      "cell_type": "markdown",
      "metadata": {
        "id": "view-in-github",
        "colab_type": "text"
      },
      "source": [
        "<a href=\"https://colab.research.google.com/github/abhi01n/MultiLayer-Perceptron-for-MNIST-digit-classfication/blob/main/MultiLayer_Perceptron_Assignment.ipynb\" target=\"_parent\"><img src=\"https://colab.research.google.com/assets/colab-badge.svg\" alt=\"Open In Colab\"/></a>"
      ]
    },
    {
      "cell_type": "markdown",
      "metadata": {
        "id": "FoHLSMXuwHo0"
      },
      "source": [
        "#Assignment\n",
        "Build a 2-layer MLP for MNIST digit classfication. Feel free to play around with the model architecture and see how the training time/performance changes, but to begin, try the following:\n",
        "\n",
        "Image (784 dimensions) ->\n",
        "fully connected layer (500 hidden units) -> nonlinearity (ReLU) ->\n",
        "fully connected (10 hidden units) -> softmax\n",
        "\n",
        "Try building the model both with basic PyTorch operations, and then again with more object-oriented higher-level APIs. You should get similar results!\n",
        "\n",
        "Some hints:\n",
        "\n",
        "Even as we add additional layers, we still only require a single optimizer to learn the parameters. Just make sure to pass all parameters to it!\n",
        "As you'll calculate in the Short Answer, this MLP model has many more parameters than the logisitic regression example, which makes it more challenging to learn. To get the best performance, you may want to play with the learning rate and increase the number of training epochs.\n",
        "Be careful using torch.nn.CrossEntropyLoss(). If you look at the PyTorch documentation: you'll see that torch.nn.CrossEntropyLoss() combines the softmax operation with the cross-entropy. This means you need to pass in the logits (predictions pre-softmax) to this loss. Computing the softmax separately and feeding the result into torch.nn.CrossEntropyLoss() will significantly degrade your model's performance!"
      ]
    },
    {
      "cell_type": "markdown",
      "metadata": {
        "id": "YzZZLy08u0IN"
      },
      "source": [
        "#Multi-Layer Perceptrons\n",
        "The simple logistic regression example we went over in the previous notebook is essentially a one-layer neural network, projecting straight from the input to the output predictions. While this can be effective for linearly separable data, occasionally a little more complexity is necessary. Neural networks with additional layers are typically able to learn more complex functions, leading to better performance. These additional layers (called \"hidden\" layers) transform the input into one or more intermediate representations before making a final prediction.\n",
        "\n",
        "In the logistic regression example, the way we performed the transformation was with a fully-connected layer, which consisted of a linear transform (matrix multiply plus a bias). A neural network consisting of multiple successive fully-connected layers is commonly called a Multi-Layer Perceptron (MLP). In the simple MLP below, a 4-d input is projected to a 5-d hidden representation, which is then projected to a single output that is used to make the final prediction.\n",
        "![image.png](data:image/png;base64,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)\n",
        "\n",
        "For the assignment, you will be building a MLP for MNIST. Mechanically, this is done very similary to our logistic regression example, but instead of going straight to a 10-d vector representing our output predictions, we might first transform to a 500-d vector with a \"hidden\" layer, then to the output of dimension 10. Before you do so, however, there's one more important thing to consider.\n",
        "\n",
        "Nonlinearities\n",
        "We typically include nonlinearities between layers of a neural network. There's a number of reasons to do so. For one, without anything nonlinear between them, successive linear transforms (fully connected layers) collapse into a single linear transform, which means the model isn't any more expressive than a single layer. On the other hand, intermediate nonlinearities prevent this collapse, allowing neural networks to approximate more complex functions.\n",
        "\n",
        "There are a number of nonlinearities commonly used in neural networks, but one of the most popular is the rectified linear unit (ReLU):\n",
        "\n",
        "𝑥=max(0,𝑥)\n",
        " \n",
        "There are a number of ways to implement this in PyTorch. We could do it with elementary PyTorch operations:\n"
      ]
    },
    {
      "cell_type": "code",
      "metadata": {
        "colab": {
          "base_uri": "https://localhost:8080/"
        },
        "id": "X6SGhNAZucMU",
        "outputId": "ea4457e9-ea1e-4e65-da43-fc1ff6a88c35"
      },
      "source": [
        "import torch\n",
        "\n",
        "x = torch.rand(5, 3)*2 - 1\n",
        "x_relu_max = torch.max(torch.zeros_like(x),x)\n",
        "\n",
        "print(\"x: {}\".format(x))\n",
        "print(\"x after ReLU with max: {}\".format(x_relu_max))"
      ],
      "execution_count": null,
      "outputs": [
        {
          "output_type": "stream",
          "text": [
            "x: tensor([[-0.8495,  0.0949,  0.8920],\n",
            "        [ 0.8239, -0.2340,  0.7531],\n",
            "        [ 0.4121, -0.3402,  0.8861],\n",
            "        [-0.5041, -0.9350,  0.0630],\n",
            "        [-0.8065, -0.1037,  0.0876]])\n",
            "x after ReLU with max: tensor([[0.0000, 0.0949, 0.8920],\n",
            "        [0.8239, 0.0000, 0.7531],\n",
            "        [0.4121, 0.0000, 0.8861],\n",
            "        [0.0000, 0.0000, 0.0630],\n",
            "        [0.0000, 0.0000, 0.0876]])\n"
          ],
          "name": "stdout"
        }
      ]
    },
    {
      "cell_type": "code",
      "metadata": {
        "id": "dDmZOKvDv3Sd"
      },
      "source": [
        ""
      ],
      "execution_count": null,
      "outputs": []
    },
    {
      "cell_type": "markdown",
      "metadata": {
        "id": "I_WEJPmivoVV"
      },
      "source": [
        "Of course, PyTorch also has the ReLU implemented, for example in **torch.nn.functional**:"
      ]
    },
    {
      "cell_type": "code",
      "metadata": {
        "colab": {
          "base_uri": "https://localhost:8080/"
        },
        "id": "N8ymd1btve8J",
        "outputId": "34b89a02-3c9e-4943-d76a-acf85e341cb4"
      },
      "source": [
        "import torch.nn.functional as F\n",
        "\n",
        "x_relu_F = F.relu(x)\n",
        "\n",
        "print(\"x after ReLU with nn.functional: {}\".format(x_relu_F))"
      ],
      "execution_count": null,
      "outputs": [
        {
          "output_type": "stream",
          "text": [
            "x after ReLU with nn.functional: tensor([[0.0000, 0.0949, 0.8920],\n",
            "        [0.8239, 0.0000, 0.7531],\n",
            "        [0.4121, 0.0000, 0.8861],\n",
            "        [0.0000, 0.0000, 0.0630],\n",
            "        [0.0000, 0.0000, 0.0876]])\n"
          ],
          "name": "stdout"
        }
      ]
    },
    {
      "cell_type": "markdown",
      "metadata": {
        "id": "8DpwjC4pRmAW"
      },
      "source": [
        "#Model with basic PyTorch operations"
      ]
    },
    {
      "cell_type": "code",
      "metadata": {
        "colab": {
          "base_uri": "https://localhost:8080/",
          "height": 132,
          "referenced_widgets": [
            "d6ad037d990c440da7f3340179e1333d",
            "bd61c3a580e8423a888e2b19c7769fb6",
            "e766b51b2b964a5dabe93667a9fa1fe9",
            "f150f16d27f24f2487a5a5df2124ef73",
            "011e8395462640869a9aaa792bc4b284",
            "f7be6bbc534a4e82a53c0608965626d0",
            "7c573bfbaccb45cc80328257ebb3c9ae",
            "5f2214304813440eb88014a2d536d4e2",
            "76a3b8c29d3443aeae6c2f1cf538ea0a",
            "b35f2da4039442adbeff9b0dcec83520",
            "aeb43128f03745a69e3a95a2e9a1eb38",
            "fcebd559b53e44b9a1a8180aed791b93",
            "9322642029814f7198808d1e08d8a391",
            "6020bdbf8ba740e0843306fdd18e748a",
            "d692f897ec26485f8b23be42f3d970d8",
            "6973262ce604403996c9f269d56f8376"
          ]
        },
        "id": "TTu7W0Cbwod9",
        "outputId": "9562f4fc-279a-4328-e6ad-62479ca5ddcf"
      },
      "source": [
        "### YOUR CODE HERE\n",
        "import numpy as np\n",
        "import matplotlib.pyplot as plt\n",
        "import torch\n",
        "import torch.nn as nn\n",
        "from tqdm.notebook import tqdm\n",
        "from torchvision import datasets, transforms\n",
        "\n",
        "  \n",
        "mnist_train = datasets.MNIST(root=\"./datasets\", train=True, transform=transforms.ToTensor(), download=True)\n",
        "mnist_test = datasets.MNIST(root=\"./datasets\", train=False, transform=transforms.ToTensor(), download=True)\n",
        "train_loader = torch.utils.data.DataLoader(mnist_train, batch_size=100, shuffle=True)\n",
        "test_loader = torch.utils.data.DataLoader(mnist_test, batch_size=100, shuffle=False)\n",
        "\n",
        "W = torch.rand(784,500)/np.sqrt(784)\n",
        "W.requires_grad_()\n",
        "b = torch.zeros(500, requires_grad=True)\n",
        "\n",
        "W2 = torch.rand(500,10)/np.sqrt(784)\n",
        "W2.requires_grad_()\n",
        "b2 = torch.zeros(10, requires_grad=True)\n",
        "\n",
        "optimizer = torch.optim.SGD([W,b,W2,b2], lr=0.1)\n",
        "\n",
        "# Iterate through train set minibatchs \n",
        "for images, labels in tqdm(train_loader):\n",
        "    # Zero out the gradients\n",
        "    optimizer.zero_grad()\n",
        "    \n",
        "    # Forward pass\n",
        "    x = images.view(-1, 28*28)\n",
        "    z = torch.matmul(x, W) + b\n",
        "    py = F.relu(z)\n",
        "    y = torch.matmul(py, W2) + b2\n",
        "    cross_entropy = F.cross_entropy(y, labels)\n",
        "    # Backward pass\n",
        "    cross_entropy.backward()\n",
        "    optimizer.step()\n",
        "\n",
        "## Testing\n",
        "correct = 0\n",
        "total = len(mnist_test)\n",
        "\n",
        "with torch.no_grad():\n",
        "    # Iterate through test set minibatchs \n",
        "    for images, labels in tqdm(test_loader):\n",
        "        # Forward pass\n",
        "        x = images.view(-1, 28*28)\n",
        "        z = torch.matmul(x, W) + b\n",
        "        py = F.relu(z)\n",
        "        y = torch.matmul(py, W2) + b2\n",
        "        predictions = torch.argmax(y, dim=1)\n",
        "        correct += torch.sum((predictions == labels).float())\n",
        "    \n",
        "print('Test accuracy: {}'.format(correct/total))\n",
        "\n",
        "# Make sure to print out your accuracy on the test set at the end."
      ],
      "execution_count": null,
      "outputs": [
        {
          "output_type": "display_data",
          "data": {
            "application/vnd.jupyter.widget-view+json": {
              "model_id": "d6ad037d990c440da7f3340179e1333d",
              "version_minor": 0,
              "version_major": 2
            },
            "text/plain": [
              "HBox(children=(FloatProgress(value=0.0, max=600.0), HTML(value='')))"
            ]
          },
          "metadata": {
            "tags": []
          }
        },
        {
          "output_type": "stream",
          "text": [
            "\n"
          ],
          "name": "stdout"
        },
        {
          "output_type": "display_data",
          "data": {
            "application/vnd.jupyter.widget-view+json": {
              "model_id": "76a3b8c29d3443aeae6c2f1cf538ea0a",
              "version_minor": 0,
              "version_major": 2
            },
            "text/plain": [
              "HBox(children=(FloatProgress(value=0.0), HTML(value='')))"
            ]
          },
          "metadata": {
            "tags": []
          }
        },
        {
          "output_type": "stream",
          "text": [
            "\n",
            "Test accuracy: 0.9104999899864197\n"
          ],
          "name": "stdout"
        }
      ]
    },
    {
      "cell_type": "markdown",
      "metadata": {
        "id": "8GDc8JrFJovp"
      },
      "source": [
        "#Object-oriented higher-level APIs\n"
      ]
    },
    {
      "cell_type": "code",
      "metadata": {
        "colab": {
          "base_uri": "https://localhost:8080/",
          "height": 166,
          "referenced_widgets": [
            "d630fe9e57aa45d9a0e34bfd264749a3",
            "7874ebc658eb40549c907fb7090bf807",
            "dcc22e8f49c34c1bbeba48ae1ccd9880",
            "26680e523f9a4f19888a022c2f95005d",
            "23e4858a671c4d8c944f247a57e896c3",
            "6e4a97d657b74994b9b9f5bcb35f08b3",
            "72e0d32105724acf9b68a769ff528d38",
            "106abceee517429abca0e97dc6fbd133",
            "793483bccb4b43d9afd71ff144bcd475",
            "02fd0bd86e0d456ea812b24abedd4386",
            "a9eb8b0ea94f41589fc84fe81a998231",
            "40235a4135f94a5daf13ddbfafe250f6",
            "7a1536c718574ab9a78f8cae04360748",
            "7a646738b6fd4675bf17757adef9f5d9",
            "2616df07f05b4adeadb3ce93c5de3544",
            "a838e5a2bdd24b5580a6f093f076e0a0"
          ]
        },
        "id": "Qqri7g25J4Tf",
        "outputId": "b574e329-a604-4843-b6a0-3b5ea3bb6819"
      },
      "source": [
        "import numpy as np\n",
        "import torch\n",
        "import torch.nn as nn\n",
        "import torch.nn.functional as F\n",
        "from torchvision import datasets, transforms\n",
        "from tqdm.notebook import tqdm\n",
        "\n",
        "class Model(nn.Module):\n",
        "    def __init__(self):\n",
        "        super().__init__()\n",
        "        self.hidden = nn.Linear(784, 500)\n",
        "        self.output = nn.Linear(500, 10)\n",
        "  \n",
        "    def forward(self, x):\n",
        "        x = self.hidden(x)\n",
        "        x = F.sigmoid(x)\n",
        "        x = self.output(x)\n",
        "        return x\n",
        "\n",
        "# Load the data\n",
        "mnist_train = datasets.MNIST(root=\"./datasets\", train=True, transform=transforms.ToTensor(), download=True)\n",
        "mnist_test = datasets.MNIST(root=\"./datasets\", train=False, transform=transforms.ToTensor(), download=True)\n",
        "train_loader = torch.utils.data.DataLoader(mnist_train, batch_size=100, shuffle=True)\n",
        "test_loader = torch.utils.data.DataLoader(mnist_test, batch_size=100, shuffle=False)\n",
        "\n",
        "## Training\n",
        "# Instantiate model\n",
        "model = Model()\n",
        "\n",
        "# Loss and Optimizer\n",
        "\n",
        "criterion = nn.CrossEntropyLoss()\n",
        "optimizer1 = torch.optim.SGD(model.parameters(), lr=0.1)\n",
        "\n",
        "\n",
        "# Iterate through train set minibatchs \n",
        "for images, labels in tqdm(train_loader):\n",
        "    # Zero out the gradients\n",
        "    optimizer1.zero_grad()\n",
        "    \n",
        "    # Forward pass\n",
        "    x = images.view(-1, 28*28)\n",
        "    z = model(x)\n",
        "    loss = criterion(z, labels)\n",
        "    # Backward pass\n",
        "    loss.backward()\n",
        "    optimizer1.step()\n",
        "\n",
        "## Testing\n",
        "correct_api = 0\n",
        "total_api = len(mnist_test)\n",
        "\n",
        "with torch.no_grad():\n",
        "    # Iterate through test set minibatchs \n",
        "    for images, labels in tqdm(test_loader):\n",
        "        # Forward pass\n",
        "        x = images.view(-1, 28*28)\n",
        "        z = model(x)\n",
        "        predictions_api = torch.argmax(z, dim=1)\n",
        "        correct_api += torch.sum((predictions_api == labels).float())\n",
        "    \n",
        "print('Test accuracy: {}'.format(correct_api/total_api))"
      ],
      "execution_count": null,
      "outputs": [
        {
          "output_type": "display_data",
          "data": {
            "application/vnd.jupyter.widget-view+json": {
              "model_id": "d630fe9e57aa45d9a0e34bfd264749a3",
              "version_minor": 0,
              "version_major": 2
            },
            "text/plain": [
              "HBox(children=(FloatProgress(value=0.0, max=600.0), HTML(value='')))"
            ]
          },
          "metadata": {
            "tags": []
          }
        },
        {
          "output_type": "stream",
          "text": [
            "/usr/local/lib/python3.7/dist-packages/torch/nn/functional.py:1709: UserWarning: nn.functional.sigmoid is deprecated. Use torch.sigmoid instead.\n",
            "  warnings.warn(\"nn.functional.sigmoid is deprecated. Use torch.sigmoid instead.\")\n"
          ],
          "name": "stderr"
        },
        {
          "output_type": "stream",
          "text": [
            "\n"
          ],
          "name": "stdout"
        },
        {
          "output_type": "display_data",
          "data": {
            "application/vnd.jupyter.widget-view+json": {
              "model_id": "793483bccb4b43d9afd71ff144bcd475",
              "version_minor": 0,
              "version_major": 2
            },
            "text/plain": [
              "HBox(children=(FloatProgress(value=0.0), HTML(value='')))"
            ]
          },
          "metadata": {
            "tags": []
          }
        },
        {
          "output_type": "stream",
          "text": [
            "\n",
            "Test accuracy: 0.8614000082015991\n"
          ],
          "name": "stdout"
        }
      ]
    },
    {
      "cell_type": "markdown",
      "metadata": {
        "id": "Ep81Hcr7RLul"
      },
      "source": [
        "#The number of trainable parameter "
      ]
    },
    {
      "cell_type": "markdown",
      "metadata": {
        "id": "PDIpiyMHSAI0"
      },
      "source": [
        "I​mage (784 dimensions) ->\n",
        "fully connected layer (500 hidden units) -> nonlinearity (ReLU) ->\n",
        "fully connected (10 hidden units) -> softmax\n",
        "W​hich suggests:\n",
        "\n",
        "B​ase layer (784) -> hidden1 (500) -> ReLU -> Output (10)\n",
        "T​herefore: (784* 500)+500, (10*500)+10\n",
        "\n"
      ]
    },
    {
      "cell_type": "code",
      "metadata": {
        "colab": {
          "base_uri": "https://localhost:8080/"
        },
        "id": "Bk8PyD84R-8i",
        "outputId": "d9097a6d-f243-4ff7-bb91-3f419969fe66"
      },
      "source": [
        "Trainable_parameter = (784*500)+500 + (10*500)+10\n",
        "Trainable_parameter"
      ],
      "execution_count": 1,
      "outputs": [
        {
          "output_type": "execute_result",
          "data": {
            "text/plain": [
              "397510"
            ]
          },
          "metadata": {
            "tags": []
          },
          "execution_count": 1
        }
      ]
    },
    {
      "cell_type": "markdown",
      "metadata": {
        "id": "NZR5QbX9S3cY"
      },
      "source": [
        "If Don't get then follow my **Introduction to Logistic Regression in PyTorch** link is below:\n",
        " \n",
        "https://github.com/abhi01n/Introduction-to-Logistic-Regression-in-PyTorch-MNIST-Dataset-"
      ]
    }
  ]
}